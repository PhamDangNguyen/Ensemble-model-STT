{
 "cells": [
  {
   "cell_type": "code",
   "execution_count": 8,
   "metadata": {},
   "outputs": [
    {
     "name": "stdout",
     "output_type": "stream",
     "text": [
      "26.764320329861107\n"
     ]
    }
   ],
   "source": [
    "import pandas as pd\n",
    "import json\n",
    "train_df_1 = pd.read_csv(\"/mnt/driver/STT_data/STT_dataset/60.BUD500_15_05_2024/BUD500.csv\")\n",
    "train_df_1 = train_df_1.sample(frac=0.03, random_state=42)\n",
    "\n",
    "train_df_2 = pd.read_csv(\"/mnt/driver/STT_data/STT_dataset/63.Augment_speed_lound/63.total_augment_sameTele.csv\")\n",
    "train_df_2 = train_df_2.sample(frac=0.05, random_state=42)\n",
    "\n",
    "train_df = pd.concat([train_df_1, train_df_2])\n",
    "print(train_df[\"duration\"].sum()/3600)\n",
    "train_df = train_df.sample(frac=1,random_state=1).reset_index(drop=True)\n",
    "train_df = train_df.sample(frac=1,random_state=10).reset_index(drop=True)\n",
    "train_df = train_df.sample(frac=1,random_state=20).reset_index(drop=True)\n",
    "train_df = train_df.sample(frac=1,random_state=42).reset_index(drop=True)\n",
    "train_df.columns = [\"audio_filepath\", \"text\", \"duration\"]\n",
    "with open(\"/home/pdnguyen/Ensemble_confidence_Nemo/confidence-ensembles-tutorial/NeMo/scripts/dang_nguyen_ensembles/data_base.json\", \"w\", encoding=\"utf-8\") as f:\n",
    "    for row in train_df.to_dict(orient=\"records\"):\n",
    "        f.write(json.dumps(row, ensure_ascii=False) + \"\\n\")"
   ]
  }
 ],
 "metadata": {
  "kernelspec": {
   "display_name": "ensemble",
   "language": "python",
   "name": "python3"
  },
  "language_info": {
   "codemirror_mode": {
    "name": "ipython",
    "version": 3
   },
   "file_extension": ".py",
   "mimetype": "text/x-python",
   "name": "python",
   "nbconvert_exporter": "python",
   "pygments_lexer": "ipython3",
   "version": "3.10.14"
  }
 },
 "nbformat": 4,
 "nbformat_minor": 2
}
