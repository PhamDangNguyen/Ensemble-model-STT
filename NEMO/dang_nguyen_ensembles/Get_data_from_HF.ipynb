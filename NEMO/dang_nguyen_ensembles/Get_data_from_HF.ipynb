{
 "cells": [
  {
   "cell_type": "code",
   "execution_count": 1,
   "metadata": {},
   "outputs": [],
   "source": [
    "import csv\n",
    "import json\n",
    "import pandas as pd\n",
    "import re\n",
    "import os\n",
    "\n",
    "#Tách tên .wav + duration từu .csv gốc tạo thành 1 tuple\n",
    "def extract_file_info(csv_path):\n",
    "    \"\"\"\n",
    "    Input: File .csv có các trường như file,text,duration\n",
    "    Output: List tuple (file_name, duration)\n",
    "    \"\"\"\n",
    "    file_info_list = []\n",
    "    with open(csv_path, newline='', encoding='utf-8') as csvfile:\n",
    "        reader = csv.DictReader(csvfile)\n",
    "        for row in reader:\n",
    "            file_path = row['file']\n",
    "            duration = float(row['duration'])\n",
    "            file_name = file_path.split('/')[-1]\n",
    "            file_info_list.append((file_name, duration))\n",
    "\n",
    "    return file_info_list\n",
    "\n",
    "def get_duration(file_name, file_info_list):\n",
    "    \"\"\"\n",
    "    Trả về duration của file_name từ file_info_list.\n",
    "    \n",
    "    Parameters:\n",
    "    file_name (str): Tên file cần tìm (vd: '542.wav').\n",
    "    file_info_list (list): Danh sách các tuple chứa tên file và duration.\n",
    "    Returns:\n",
    "    float: Thời lượng của file nếu tìm thấy, None nếu không tìm thấy.\n",
    "    \"\"\"\n",
    "    for file, duration in file_info_list:\n",
    "        if file == file_name:\n",
    "            return duration\n",
    "    return None\n",
    "\n",
    "def extract_and_save_csv(input_csv_path, output_csv_path):\n",
    "    \"\"\"\n",
    "    Trích xuất các trường cần thiết từ file CSV ban đầu và lưu vào file CSV mới.\n",
    "\n",
    "    Parameters:\n",
    "    input_csv_path (str): Đường dẫn tới file CSV ban đầu.\n",
    "    output_csv_path (str): Đường dẫn tới file CSV mới sẽ lưu.\n",
    "\n",
    "    Returns:\n",
    "    None\n",
    "    \"\"\"\n",
    "    with open(input_csv_path, newline='', encoding='utf-8') as infile, open(output_csv_path, mode='w', newline='', encoding='utf-8') as outfile:\n",
    "        reader = csv.DictReader(infile)\n",
    "        fieldnames = ['file', 'text', 'duration']\n",
    "        writer = csv.DictWriter(outfile, fieldnames=fieldnames)\n",
    "\n",
    "        writer.writeheader()\n",
    "        for row in reader:\n",
    "            name_wav = f\"replace/{extract_filename(row['file'])}\"\n",
    "            new_row = {\n",
    "                'file': name_wav,\n",
    "                'text': row['text_bartpho'],\n",
    "                'duration': row['duration']\n",
    "            }\n",
    "            writer.writerow(new_row)\n",
    "\n",
    "def remove_punctuation(text):\n",
    "    return re.sub(r'[^\\w\\s]',' ', text)\n",
    "\n",
    "def clean_text(text):\n",
    "    \"\"\" Chuẩn hóa từ bằng cách chuyển về viết thường và xóa bỏ dấu cách (space) dư thừa\n",
    "\n",
    "    Args:\n",
    "        text(str): Câu đầu vào\n",
    "    Returns:\n",
    "        (str): Câu sau khi được chuẩn hóa\n",
    "    \"\"\"\n",
    "    text = text.lower()\n",
    "    text = remove_punctuation(text)\n",
    "    text = ' '.join(text.split())\n",
    "    return text \n",
    "\n",
    "def extract_filename(file_path):\n",
    "    \"\"\"\n",
    "    Input:\n",
    "        /mnt/driver/pdnguyen/studen_annoted/data_telesale_extract_10_dir/extra_0/wavs/1620.wav\n",
    "    Output:\n",
    "        1620.wav\n",
    "    \"\"\"\n",
    "    return os.path.basename(file_path)"
   ]
  },
  {
   "cell_type": "code",
   "execution_count": 3,
   "metadata": {},
   "outputs": [
    {
     "name": "stderr",
     "output_type": "stream",
     "text": [
      "/home/pdnguyen/.conda/envs/infer_fcm/lib/python3.9/site-packages/datasets/load.py:1478: FutureWarning: The repository for mozilla-foundation/common_voice_17_0 contains custom code which must be executed to correctly load the dataset. You can inspect the repository content at https://hf.co/datasets/mozilla-foundation/common_voice_17_0\n",
      "You can avoid this message in future by passing the argument `trust_remote_code=True`.\n",
      "Passing `trust_remote_code=True` will be mandatory to load this dataset from the next major release of `datasets`.\n",
      "  warnings.warn(\n"
     ]
    },
    {
     "data": {
      "application/vnd.jupyter.widget-view+json": {
       "model_id": "9f227b3579fe4f03b7de185ef8693e93",
       "version_major": 2,
       "version_minor": 0
      },
      "text/plain": [
       "Downloading builder script:   0%|          | 0.00/8.19k [00:00<?, ?B/s]"
      ]
     },
     "metadata": {},
     "output_type": "display_data"
    },
    {
     "data": {
      "application/vnd.jupyter.widget-view+json": {
       "model_id": "4a376da423ed4fc88753f75c759bd2be",
       "version_major": 2,
       "version_minor": 0
      },
      "text/plain": [
       "Downloading readme:   0%|          | 0.00/12.7k [00:00<?, ?B/s]"
      ]
     },
     "metadata": {},
     "output_type": "display_data"
    },
    {
     "data": {
      "application/vnd.jupyter.widget-view+json": {
       "model_id": "24f7fa55151244969ac2110f9bef59c7",
       "version_major": 2,
       "version_minor": 0
      },
      "text/plain": [
       "Downloading extra modules:   0%|          | 0.00/3.92k [00:00<?, ?B/s]"
      ]
     },
     "metadata": {},
     "output_type": "display_data"
    },
    {
     "data": {
      "application/vnd.jupyter.widget-view+json": {
       "model_id": "7d859e0f9b1046c998be960f2721d384",
       "version_major": 2,
       "version_minor": 0
      },
      "text/plain": [
       "Downloading extra modules:   0%|          | 0.00/132k [00:00<?, ?B/s]"
      ]
     },
     "metadata": {},
     "output_type": "display_data"
    }
   ],
   "source": [
    "from datasets import load_dataset\n",
    "\n",
    "cv_17 = load_dataset(\"mozilla-foundation/common_voice_17_0\", \"en\", split=\"train\", streaming=True)"
   ]
  },
  {
   "cell_type": "code",
   "execution_count": 7,
   "metadata": {},
   "outputs": [
    {
     "name": "stdout",
     "output_type": "stream",
     "text": [
      "IterableDataset({\n",
      "    features: ['client_id', 'path', 'audio', 'sentence', 'up_votes', 'down_votes', 'age', 'gender', 'accent', 'locale', 'segment', 'variant'],\n",
      "    n_shards: 28\n",
      "})\n"
     ]
    }
   ],
   "source": [
    "print(cv_17)"
   ]
  },
  {
   "cell_type": "code",
   "execution_count": 16,
   "metadata": {},
   "outputs": [
    {
     "name": "stderr",
     "output_type": "stream",
     "text": [
      "Reading metadata...: 1101170it [00:36, 30026.41it/s]\n",
      "Exception ignored from cffi callback <function SoundFile._init_virtual_io.<locals>.vio_read at 0x7f82e74a4c10>:\n",
      "Traceback (most recent call last):\n",
      "  File \"/home/pdnguyen/.conda/envs/infer_fcm/lib/python3.9/site-packages/soundfile.py\", line 1244, in vio_read\n",
      "    try:\n",
      "KeyboardInterrupt: \n"
     ]
    }
   ],
   "source": [
    "# Lặp qua các phần tử trong cv_17 và lấy trường sentence\n",
    "with open(\"sentences.txt\", \"w\", encoding=\"utf-8\") as f:\n",
    "    for example in cv_17:\n",
    "        sentence = example['sentence']\n",
    "        text_clean = clean_text(sentence)\n",
    "        f.write(text_clean + \"\\n\")"
   ]
  }
 ],
 "metadata": {
  "kernelspec": {
   "display_name": "ensemble",
   "language": "python",
   "name": "python3"
  },
  "language_info": {
   "codemirror_mode": {
    "name": "ipython",
    "version": 3
   },
   "file_extension": ".py",
   "mimetype": "text/x-python",
   "name": "python",
   "nbconvert_exporter": "python",
   "pygments_lexer": "ipython3",
   "version": "3.9.18"
  }
 },
 "nbformat": 4,
 "nbformat_minor": 2
}
