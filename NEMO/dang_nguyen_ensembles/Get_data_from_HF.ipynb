{
 "cells": [
  {
   "cell_type": "code",
   "execution_count": 1,
   "metadata": {},
   "outputs": [
    {
     "name": "stderr",
     "output_type": "stream",
     "text": [
      "/home/pdnguyen/miniconda3/envs/ensemble/lib/python3.10/site-packages/tqdm/auto.py:21: TqdmWarning: IProgress not found. Please update jupyter and ipywidgets. See https://ipywidgets.readthedocs.io/en/stable/user_install.html\n",
      "  from .autonotebook import tqdm as notebook_tqdm\n"
     ]
    }
   ],
   "source": [
    "from datasets import load_dataset\n",
    "ds = load_dataset(\"rakshya34/filtered_voice_english_v1.9\")"
   ]
  },
  {
   "cell_type": "code",
   "execution_count": 9,
   "metadata": {},
   "outputs": [],
   "source": [
    "import csv\n",
    "import json\n",
    "import pandas as pd\n",
    "import re\n",
    "import os\n",
    "\n",
    "#Tách tên .wav + duration từu .csv gốc tạo thành 1 tuple\n",
    "def extract_file_info(csv_path):\n",
    "    \"\"\"\n",
    "    Input: File .csv có các trường như file,text,duration\n",
    "    Output: List tuple (file_name, duration)\n",
    "    \"\"\"\n",
    "    file_info_list = []\n",
    "    with open(csv_path, newline='', encoding='utf-8') as csvfile:\n",
    "        reader = csv.DictReader(csvfile)\n",
    "        for row in reader:\n",
    "            file_path = row['file']\n",
    "            duration = float(row['duration'])\n",
    "            file_name = file_path.split('/')[-1]\n",
    "            file_info_list.append((file_name, duration))\n",
    "\n",
    "    return file_info_list\n",
    "\n",
    "def get_duration(file_name, file_info_list):\n",
    "    \"\"\"\n",
    "    Trả về duration của file_name từ file_info_list.\n",
    "    \n",
    "    Parameters:\n",
    "    file_name (str): Tên file cần tìm (vd: '542.wav').\n",
    "    file_info_list (list): Danh sách các tuple chứa tên file và duration.\n",
    "    Returns:\n",
    "    float: Thời lượng của file nếu tìm thấy, None nếu không tìm thấy.\n",
    "    \"\"\"\n",
    "    for file, duration in file_info_list:\n",
    "        if file == file_name:\n",
    "            return duration\n",
    "    return None\n",
    "\n",
    "def extract_and_save_csv(input_csv_path, output_csv_path):\n",
    "    \"\"\"\n",
    "    Trích xuất các trường cần thiết từ file CSV ban đầu và lưu vào file CSV mới.\n",
    "\n",
    "    Parameters:\n",
    "    input_csv_path (str): Đường dẫn tới file CSV ban đầu.\n",
    "    output_csv_path (str): Đường dẫn tới file CSV mới sẽ lưu.\n",
    "\n",
    "    Returns:\n",
    "    None\n",
    "    \"\"\"\n",
    "    with open(input_csv_path, newline='', encoding='utf-8') as infile, open(output_csv_path, mode='w', newline='', encoding='utf-8') as outfile:\n",
    "        reader = csv.DictReader(infile)\n",
    "        fieldnames = ['file', 'text', 'duration']\n",
    "        writer = csv.DictWriter(outfile, fieldnames=fieldnames)\n",
    "\n",
    "        writer.writeheader()\n",
    "        for row in reader:\n",
    "            name_wav = f\"replace/{extract_filename(row['file'])}\"\n",
    "            new_row = {\n",
    "                'file': name_wav,\n",
    "                'text': row['text_bartpho'],\n",
    "                'duration': row['duration']\n",
    "            }\n",
    "            writer.writerow(new_row)\n",
    "\n",
    "def remove_punctuation(text):\n",
    "    return re.sub(r'[^\\w\\s]',' ', text)\n",
    "\n",
    "def clean_text(text):\n",
    "    \"\"\" Chuẩn hóa từ bằng cách chuyển về viết thường và xóa bỏ dấu cách (space) dư thừa\n",
    "\n",
    "    Args:\n",
    "        text(str): Câu đầu vào\n",
    "    Returns:\n",
    "        (str): Câu sau khi được chuẩn hóa\n",
    "    \"\"\"\n",
    "    text = text.lower()\n",
    "    text = remove_punctuation(text)\n",
    "    text = ' '.join(text.split())\n",
    "    return text \n",
    "\n",
    "def extract_filename(file_path):\n",
    "    \"\"\"\n",
    "    Input:\n",
    "        /mnt/driver/pdnguyen/studen_annoted/data_telesale_extract_10_dir/extra_0/wavs/1620.wav\n",
    "    Output:\n",
    "        1620.wav\n",
    "    \"\"\"\n",
    "    return os.path.basename(file_path)"
   ]
  },
  {
   "cell_type": "code",
   "execution_count": 17,
   "metadata": {},
   "outputs": [],
   "source": [
    "import os\n",
    "metadata = [\n",
    "    {\n",
    "        \"audio_filepath\": f\"/home/pdnguyen/Ensemble_confidence_Nemo/English_data/{path_wav}\",\n",
    "        \"text\": clean_text(ds[\"train\"][\"transcription\"][int(path_wav.split(\".\")[0])]),\n",
    "        \"duration\": 10\n",
    "    }\n",
    "    for path_wav in os.listdir(\"/home/pdnguyen/Ensemble_confidence_Nemo/English_data\")\n",
    "]\n"
   ]
  },
  {
   "cell_type": "code",
   "execution_count": 18,
   "metadata": {},
   "outputs": [],
   "source": [
    "with open(\"metadata.json\", \"w\") as file:\n",
    "    for entry in metadata:\n",
    "        json.dump(entry, file)\n",
    "        file.write('\\n')"
   ]
  }
 ],
 "metadata": {
  "kernelspec": {
   "display_name": "ensemble",
   "language": "python",
   "name": "python3"
  },
  "language_info": {
   "codemirror_mode": {
    "name": "ipython",
    "version": 3
   },
   "file_extension": ".py",
   "mimetype": "text/x-python",
   "name": "python",
   "nbconvert_exporter": "python",
   "pygments_lexer": "ipython3",
   "version": "3.10.14"
  }
 },
 "nbformat": 4,
 "nbformat_minor": 2
}
